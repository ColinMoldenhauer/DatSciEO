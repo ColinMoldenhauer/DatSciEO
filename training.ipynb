{
  "cells": [
    {
      "cell_type": "markdown",
      "metadata": {
        "id": "-1vHOxLS8yqd"
      },
      "source": [
        "# Training a `torch` model\n",
        "---\n",
        "\n",
        "This notebook provides a simple implementation of a training loop for training a neural network with Pytorch."
      ]
    },
    {
      "cell_type": "code",
      "execution_count": 24,
      "metadata": {
        "colab": {
          "base_uri": "https://localhost:8080/"
        },
        "id": "-RFPRWBd9Rfq",
        "outputId": "1d02c3c6-9ba9-4e1e-f1d1-955696b9a106"
      },
      "outputs": [
        {
          "name": "stdout",
          "output_type": "stream",
          "text": [
            "Mounted at /content/drive\n"
          ]
        }
      ],
      "source": [
        "import pkg_resources\n",
        "\n",
        "run_colab = \"google\" in {pkg.key for pkg in pkg_resources.working_set}\n",
        "\n",
        "\n",
        "if run_colab:\n",
        "    from google.colab import drive\n",
        "    drive.mount('/content/drive', force_remount=True)\n",
        "\n",
        "    root = \"/content/drive/MyDrive/DatSciEO\"\n",
        "    import os, sys\n",
        "    sys.path.append(root)\n",
        "    #sys.path.append(os.path.join(root, \"models\"))\n",
        "    #sys.path.append(os.path.join(root, \"utils\"))\n",
        "else:\n",
        "    root = \".\""
      ]
    },
    {
      "cell_type": "code",
      "execution_count": null,
      "metadata": {
        "id": "B0FTSShZ8yqh"
      },
      "outputs": [],
      "source": [
        "import datetime\n",
        "import os\n",
        "import time\n",
        "\n",
        "import numpy as np\n",
        "\n",
        "from models import TreeClassifConvNet\n",
        "from utils import TreeClassifPreprocessedDataset\n",
        "\n",
        "import matplotlib.pyplot as plt\n",
        "from sklearn.metrics import accuracy_score\n",
        "\n",
        "import torch\n",
        "import torch.nn as nn\n",
        "from torch.utils.data import DataLoader, random_split\n",
        "from torch.utils.tensorboard import SummaryWriter\n",
        "\n"
      ]
    },
    {
      "cell_type": "markdown",
      "metadata": {
        "id": "A3lgKfOc8yqk"
      },
      "source": [
        "---\n",
        "## Settings"
      ]
    },
    {
      "cell_type": "code",
      "execution_count": null,
      "metadata": {
        "id": "RMrErzMk8yqk"
      },
      "outputs": [],
      "source": [
        "# general training settings\n",
        "N_epochs = 400\n",
        "batch_size = 18\n",
        "learning_rate = 1e-4\n",
        "verbose = True\n",
        "\n",
        "# where to save training progress info and checkpoints\n",
        "run_dir = os.path.join(root, f\"runs/{time.strftime('%Y%m%d-%Hh%Mm%Ss', time.localtime())}\")\n",
        "checkpoint_dir = os.path.join(run_dir, \"checkpoints\")\n",
        "\n",
        "os.makedirs(run_dir, exist_ok=True)\n",
        "os.makedirs(checkpoint_dir, exist_ok=True)"
      ]
    },
    {
      "cell_type": "code",
      "execution_count": null,
      "metadata": {
        "id": "QPsNuqtb8yqn",
        "outputId": "c287783f-e15e-485f-e569-f9e1257206ce"
      },
      "outputs": [
        {
          "name": "stdout",
          "output_type": "stream",
          "text": [
            "\n",
            "Using dataset with properties:\n",
            "\tsamples:    10986\n",
            "\t   train:   7691\n",
            "\t   val:     3295\n",
            "\tshape: (30, 5, 5)\n",
            "\n"
          ]
        }
      ],
      "source": [
        "# create datasets and dataloaders\n",
        "dataset_dir = os.path.join(root, \"data/1123_top10/1123_delete_nan_samples_\")\n",
        "\n",
        "dataset = TreeClassifPreprocessedDataset(\n",
        "    dataset_dir,\n",
        "    torchify=True\n",
        "    )\n",
        "\n",
        "# split the dataset into train and validation\n",
        "splits = [.7, .3]\n",
        "ds_train, ds_val = random_split(dataset, splits, generator=torch.Generator().manual_seed(42))\n",
        "\n",
        "# define dataloaders for training\n",
        "dl_train = DataLoader(ds_train, batch_size, shuffle=True)\n",
        "dl_val = DataLoader(ds_val, batch_size, shuffle=True)\n",
        "\n",
        "if verbose: print(\n",
        "    f\"\\nUsing dataset with properties:\\n\"       \\\n",
        "    f\"\\tsamples:    {len(dataset)}\\n\"              \\\n",
        "    f\"\\t   train:   {len(ds_train)}\\n\"             \\\n",
        "    f\"\\t   val:     {len(ds_val)}\\n\"               \\\n",
        "    f\"\\tshape: {dataset[0][0].shape}\\n\"         \\\n",
        "    )"
      ]
    },
    {
      "cell_type": "code",
      "execution_count": null,
      "metadata": {
        "id": "tfOcOpVY8yqo"
      },
      "outputs": [],
      "source": [
        "# model, loss and optimizer\n",
        "model = TreeClassifConvNet(\n",
        "    n_classes = dataset.n_classes,\n",
        "    width = dataset.width,\n",
        "    height = dataset.height,\n",
        "    depth = dataset.depth\n",
        ")\n",
        "loss_fn = nn.CrossEntropyLoss()\n",
        "optim = torch.optim.Adam(model.parameters(), lr=learning_rate)\n",
        "\n",
        "model"
      ]
    },
    {
      "cell_type": "markdown",
      "metadata": {
        "id": "dlXiu9Pd8yqq"
      },
      "source": [
        "---\n",
        "## Training\n",
        "### Sanity Check\n",
        "One final step before running the time-consuming loop is to perform a sanity check:\n",
        "- is the GPU working?\n",
        "- is the model able to learn? -> overfitting experiment on a small subset\n",
        "\n",
        "<br>\n",
        "Check whether the current device set to the GPU if available:"
      ]
    },
    {
      "cell_type": "code",
      "execution_count": null,
      "metadata": {
        "id": "2M0F20A28yqr",
        "outputId": "c4cbf5cb-09c5-403d-8ef2-9a011c9a33e8"
      },
      "outputs": [
        {
          "name": "stdout",
          "output_type": "stream",
          "text": [
            "device: cpu\n",
            "model:  cpu\n"
          ]
        }
      ],
      "source": [
        "# device check\n",
        "device = \"cuda\" if torch.cuda.is_available() else \"cpu\"\n",
        "model.to(device)\n",
        "\n",
        "print(\"device:\", device)\n",
        "print(\"model: \", next(model.parameters()).device)"
      ]
    },
    {
      "cell_type": "markdown",
      "metadata": {
        "id": "hOuy6b5T8yqu"
      },
      "source": [
        "Run an overfitting experiment with a small subset of the data.\n",
        "The training loss should go to zero and the validation loss should explode:"
      ]
    },
    {
      "cell_type": "code",
      "execution_count": null,
      "metadata": {
        "id": "rAANdohC8yqv",
        "outputId": "fe152fa3-346a-4a4d-de2c-748f20b02642"
      },
      "outputs": [
        {
          "data": {
            "image/png": "[encoded data removed]",
            "text/plain": [
              "<Figure size 640x480 with 1 Axes>"
            ]
          },
          "metadata": {},
          "output_type": "display_data"
        }
      ],
      "source": [
        "# save initial model state to recover after dummy training\n",
        "checkpoint = {'model': model.state_dict(), 'optimizer': optim.state_dict()}\n",
        "torch.save(checkpoint, 'checkpoint.pth')\n",
        "\n",
        "# define some small datasets from subsets of the data\n",
        "ds_train_check = TreeClassifPreprocessedDataset(dataset_dir, torchify=True, indices=[*range(50)])\n",
        "# choose samples from the end of the dataset for validation to ensure class dissimilarity\n",
        "ds_val_check = TreeClassifPreprocessedDataset(dataset_dir, torchify=True, indices=[*range(len(dataset)-42, len(dataset))])\n",
        "\n",
        "\n",
        "dl_train_check = DataLoader(ds_train_check, batch_size, shuffle=True)\n",
        "dl_val_check = DataLoader(ds_val_check, batch_size, shuffle=True)\n",
        "n_train_check, n_val_check = len(ds_train_check), len(ds_val_check)\n",
        "\n",
        "# train a few epochs and observe training and validation error\n",
        "losses_train = []\n",
        "losses_val = []\n",
        "\n",
        "N_epochs = 150\n",
        "for i_epoch in range(N_epochs):\n",
        "\n",
        "    model.train()\n",
        "    running_loss = 0.\n",
        "    for i_batch, (x, y) in enumerate(dl_train_check):\n",
        "        assert torch.isnan(x).sum() == 0, \"NaN in trainings data, please fix.\"\n",
        "\n",
        "        x = x.float().to(device)\n",
        "        y = y.to(device)\n",
        "\n",
        "        pred = model(x)\n",
        "        loss = loss_fn(pred, y)\n",
        "        loss.backward()\n",
        "        running_loss += loss.item()\n",
        "\n",
        "        optim.step()\n",
        "        optim.zero_grad()\n",
        "\n",
        "    model.eval()\n",
        "    running_loss_val = 0.\n",
        "    with torch.no_grad():\n",
        "        for i_batch_val, (x, y) in enumerate(dl_val_check):\n",
        "            x = x.float().to(device)\n",
        "            y = y.to(device)\n",
        "            \n",
        "            pred_val = model(x.float().to(device))\n",
        "\n",
        "            loss_val = loss_fn(pred_val, y)\n",
        "            running_loss_val += loss_val.item()\n",
        "\n",
        "    losses_train.append(running_loss / n_train_check)\n",
        "    losses_val.append(running_loss_val / n_val_check)\n",
        "\n",
        "fig = plt.figure()\n",
        "plt.title(\"Training and Validation Loss \")\n",
        "plt.plot(losses_train, label=\"train\")\n",
        "plt.plot(losses_val, label=\"val\")\n",
        "plt.legend()\n",
        "\n",
        "# after dummy training, restore initial state\n",
        "checkpoint = torch.load(\"checkpoint.pth\")\n",
        "model.load_state_dict(checkpoint['model'])\n",
        "optim.load_state_dict(checkpoint['optimizer'])\n",
        "os.remove(\"checkpoint.pth\")"
      ]
    },
    {
      "cell_type": "markdown",
      "metadata": {
        "id": "1RoyTA7y8yqy"
      },
      "source": [
        "### Training Loop\n",
        "After defining all the necessary parameters above, we can finally run the training loop.\n",
        "In the real training loop, for each epoch following metrics are calculated:\n",
        "- average running training loss over the whole epoch\n",
        "- average validation loss after epoch\n",
        "- training accuracy after epoch\n",
        "- validation accuracy after epoch\n",
        "\n",
        "The metrics are also logged with the help of the `tensorboard` package and can be viewed by...\n",
        "- running `tensorboard --logdir=<YOUR_LOG_DIR>`\n",
        "- then visiting [http://localhost:6006/](http://localhost:6006/)"
      ]
    },
    {
      "cell_type": "code",
      "execution_count": null,
      "metadata": {
        "id": "Ek151zoz8yq0"
      },
      "outputs": [],
      "source": [
        "# training loop\n",
        "writer = SummaryWriter(run_dir)\n",
        "\n",
        "t0 = time.time()\n",
        "last_info = t0\n",
        "n_train = len(dl_train.dataset)\n",
        "n_batch_train = np.ceil(n_train/batch_size)\n",
        "its_total = n_batch_train * N_epochs\n",
        "n_val = len(dl_val.dataset)\n",
        "n_batch_val = np.ceil(n_val/batch_size)\n",
        "\n",
        "for i_epoch in range(N_epochs):\n",
        "\n",
        "    running_loss = 0.\n",
        "    last_loss = 0.\n",
        "    correct = 0\n",
        "\n",
        "    model.train()\n",
        "    for i_batch, (x, y) in enumerate(dl_train):\n",
        "        assert torch.isnan(x).sum() == 0, \"NaN in trainings data, please fix.\"\n",
        "\n",
        "        x = x.float().to(device)\n",
        "        y = y.to(device)\n",
        "\n",
        "        pred = model(x)\n",
        "\n",
        "        loss = loss_fn(pred, y)\n",
        "        running_loss += loss.item()\n",
        "        loss.backward()\n",
        "\n",
        "        optim.step()\n",
        "        optim.zero_grad()\n",
        "\n",
        "        if verbose and (((time.time() - last_info) > 20) or (i_batch % (n_train//n_train) == 0)):\n",
        "            loss_avg = running_loss / (i_batch+1) # loss per batch\n",
        "            last_info = time.time()\n",
        "            loss, current = loss.item(), (i_batch + 1) * len(x)\n",
        "            curr_it = i_epoch*n_train + i_batch+1\n",
        "            t_per_it = (time.time()-t0) / curr_it\n",
        "            ETA = (its_total - curr_it) * t_per_it\n",
        "            writer.add_scalar(\"train_intermediate/loss\", loss_avg, i_epoch+current/n_train)\n",
        "            print(f\"train:  {loss:>7f}  loss avg: {loss_avg:>7f}   [epoch {i_epoch:>3d}: {current:>5d}/{n_train:>5d}]\\t\\tt/it {t_per_it:.2f}\\tETA {datetime.timedelta(seconds=ETA)}\")\n",
        "\n",
        "    all = [(el, y_) for x, y in dl_train for el, y_ in zip(np.argmax(model(x.float().to(device)).detach().numpy(), axis=1), y.numpy())]\n",
        "    all_preds = [a[0] for a in all]\n",
        "    all_gts = [a[1] for a in all]\n",
        "    accuracy_train = accuracy_score(all_gts, all_preds)\n",
        "\n",
        "    t_per_epoch = (time.time()-t0)/(i_epoch+1)\n",
        "\n",
        "    loss_avg = running_loss / n_train\n",
        "    if verbose: print(f\"train:  {loss:>7f}  loss avg: {loss_avg:>7f}   [epoch {i_epoch:>3d}: {n_train:>5d}/{n_train:>5d}]\\t\\tt/epoch {t_per_epoch}\")\n",
        "    if verbose: print(f\"        {loss:>7f}  accuracy: {accuracy_train:>7f}\")\n",
        "\n",
        "\n",
        "    # validation loop\n",
        "    model.eval()\n",
        "    running_loss_val = 0.\n",
        "    correct = 0\n",
        "    with torch.no_grad():\n",
        "        for i_batch_val, (x, y) in enumerate(dl_val):\n",
        "            x = x.float().to(device)\n",
        "            y = y.to(device)\n",
        "            \n",
        "            pred_val = model(x)\n",
        "\n",
        "            pred_class = np.argmax(pred_val.numpy(), axis=1)\n",
        "            correct == (pred_class == y.numpy()).sum()\n",
        "\n",
        "            loss_val = loss_fn(pred_val, y)\n",
        "            running_loss_val += loss_val\n",
        "\n",
        "    accuracy_val = correct / n_val\n",
        "    loss_val_avg = running_loss_val / n_val\n",
        "\n",
        "    if verbose: print(f\"val:    loss avg: {loss_val_avg:>7f}   [epoch {i_epoch:>3d}]\")\n",
        "    if verbose: print(f\"        accuracy: {loss_val_avg:>7f}\\n\")\n",
        "\n",
        "    # write some metrics to tensorboard\n",
        "    writer.add_scalars(\"_train_val/loss\", {\"train\": loss_avg, \"val\": loss_val_avg}, i_epoch+1)\n",
        "    writer.add_scalars(\"_train_val/accuracy\", {\"train\": accuracy_train, \"val\": accuracy_val}, i_epoch+1)\n",
        "    writer.add_scalar(\"train/loss\", loss_avg, i_epoch+1)\n",
        "    writer.add_scalar(\"train/accuracy\", accuracy_train, i_epoch+1)\n",
        "    writer.add_scalar(\"val/loss\", loss_val_avg, i_epoch+1)\n",
        "    writer.add_scalar(\"val/accuracy\", accuracy_val, i_epoch+1)\n",
        "\n",
        "    checkpoint_file = os.path.join(checkpoint_dir, f\"epoch_{i_epoch}.pth\")\n",
        "    if verbose: print(f\"Saving current state to '{checkpoint_file}'\")\n",
        "    torch.save({\n",
        "            'epoch': i_epoch,\n",
        "            'model_state_dict': model.state_dict(),\n",
        "            'optimizer_state_dict': optim.state_dict(),\n",
        "            'loss': loss,\n",
        "            }, checkpoint_file)\n"
      ]
    }
  ],
  "metadata": {
    "colab": {
      "provenance": []
    },
    "kernelspec": {
      "display_name": "231110_DatScieEO",
      "language": "python",
      "name": "python3"
    },
    "language_info": {
      "codemirror_mode": {
        "name": "ipython",
        "version": 3
      },
      "file_extension": ".py",
      "mimetype": "text/x-python",
      "name": "python",
      "nbconvert_exporter": "python",
      "pygments_lexer": "ipython3",
      "version": "3.8.18"
    }
  },
  "nbformat": 4,
  "nbformat_minor": 0
}
